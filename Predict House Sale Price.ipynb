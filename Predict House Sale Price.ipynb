{
 "cells": [
  {
   "cell_type": "markdown",
   "metadata": {},
   "source": [
    "# Predicting House Sale Prices Using A Simple Linear Regression\n",
    "\n",
    "In this project, I will be working with housing data for the city of Ames, Iowa, United States from 2006 to 2010. The dataset was originally compiled by Dean De Cock for the primary purpose of having a high quality dataset for regression. His paper can be found [here](https://www.tandfonline.com/doi/abs/10.1080/10691898.2011.11889627) "
   ]
  },
  {
   "cell_type": "code",
   "execution_count": 1,
   "metadata": {},
   "outputs": [],
   "source": [
    "import numpy as np\n",
    "import pandas as pd\n",
    "import matplotlib.pyplot as plt\n",
    "from sklearn.linear_model import LinearRegression\n",
    "from sklearn.metrics import mean_squared_error\n",
    "from sklearn.model_selection import KFold\n",
    "import seaborn as sns\n",
    "%matplotlib inline"
   ]
  },
  {
   "cell_type": "code",
   "execution_count": 2,
   "metadata": {},
   "outputs": [],
   "source": [
    "house=pd.read_csv('AmesHousing.tsv',sep='\\t')"
   ]
  },
  {
   "cell_type": "code",
   "execution_count": 3,
   "metadata": {},
   "outputs": [
    {
     "name": "stdout",
     "output_type": "stream",
     "text": [
      "   Order        PID  MS SubClass MS Zoning  Lot Frontage  Lot Area Street  \\\n",
      "0      1  526301100           20        RL         141.0     31770   Pave   \n",
      "1      2  526350040           20        RH          80.0     11622   Pave   \n",
      "2      3  526351010           20        RL          81.0     14267   Pave   \n",
      "3      4  526353030           20        RL          93.0     11160   Pave   \n",
      "4      5  527105010           60        RL          74.0     13830   Pave   \n",
      "\n",
      "  Alley Lot Shape Land Contour  ... Pool Area Pool QC  Fence Misc Feature  \\\n",
      "0   NaN       IR1          Lvl  ...         0     NaN    NaN          NaN   \n",
      "1   NaN       Reg          Lvl  ...         0     NaN  MnPrv          NaN   \n",
      "2   NaN       IR1          Lvl  ...         0     NaN    NaN         Gar2   \n",
      "3   NaN       Reg          Lvl  ...         0     NaN    NaN          NaN   \n",
      "4   NaN       IR1          Lvl  ...         0     NaN  MnPrv          NaN   \n",
      "\n",
      "  Misc Val Mo Sold Yr Sold Sale Type  Sale Condition  SalePrice  \n",
      "0        0       5    2010       WD           Normal     215000  \n",
      "1        0       6    2010       WD           Normal     105000  \n",
      "2    12500       6    2010       WD           Normal     172000  \n",
      "3        0       4    2010       WD           Normal     244000  \n",
      "4        0       3    2010       WD           Normal     189900  \n",
      "\n",
      "[5 rows x 82 columns]\n",
      "\n",
      "\n",
      "<class 'pandas.core.frame.DataFrame'>\n",
      "RangeIndex: 2930 entries, 0 to 2929\n",
      "Data columns (total 82 columns):\n",
      " #   Column           Non-Null Count  Dtype  \n",
      "---  ------           --------------  -----  \n",
      " 0   Order            2930 non-null   int64  \n",
      " 1   PID              2930 non-null   int64  \n",
      " 2   MS SubClass      2930 non-null   int64  \n",
      " 3   MS Zoning        2930 non-null   object \n",
      " 4   Lot Frontage     2440 non-null   float64\n",
      " 5   Lot Area         2930 non-null   int64  \n",
      " 6   Street           2930 non-null   object \n",
      " 7   Alley            198 non-null    object \n",
      " 8   Lot Shape        2930 non-null   object \n",
      " 9   Land Contour     2930 non-null   object \n",
      " 10  Utilities        2930 non-null   object \n",
      " 11  Lot Config       2930 non-null   object \n",
      " 12  Land Slope       2930 non-null   object \n",
      " 13  Neighborhood     2930 non-null   object \n",
      " 14  Condition 1      2930 non-null   object \n",
      " 15  Condition 2      2930 non-null   object \n",
      " 16  Bldg Type        2930 non-null   object \n",
      " 17  House Style      2930 non-null   object \n",
      " 18  Overall Qual     2930 non-null   int64  \n",
      " 19  Overall Cond     2930 non-null   int64  \n",
      " 20  Year Built       2930 non-null   int64  \n",
      " 21  Year Remod/Add   2930 non-null   int64  \n",
      " 22  Roof Style       2930 non-null   object \n",
      " 23  Roof Matl        2930 non-null   object \n",
      " 24  Exterior 1st     2930 non-null   object \n",
      " 25  Exterior 2nd     2930 non-null   object \n",
      " 26  Mas Vnr Type     2907 non-null   object \n",
      " 27  Mas Vnr Area     2907 non-null   float64\n",
      " 28  Exter Qual       2930 non-null   object \n",
      " 29  Exter Cond       2930 non-null   object \n",
      " 30  Foundation       2930 non-null   object \n",
      " 31  Bsmt Qual        2850 non-null   object \n",
      " 32  Bsmt Cond        2850 non-null   object \n",
      " 33  Bsmt Exposure    2847 non-null   object \n",
      " 34  BsmtFin Type 1   2850 non-null   object \n",
      " 35  BsmtFin SF 1     2929 non-null   float64\n",
      " 36  BsmtFin Type 2   2849 non-null   object \n",
      " 37  BsmtFin SF 2     2929 non-null   float64\n",
      " 38  Bsmt Unf SF      2929 non-null   float64\n",
      " 39  Total Bsmt SF    2929 non-null   float64\n",
      " 40  Heating          2930 non-null   object \n",
      " 41  Heating QC       2930 non-null   object \n",
      " 42  Central Air      2930 non-null   object \n",
      " 43  Electrical       2929 non-null   object \n",
      " 44  1st Flr SF       2930 non-null   int64  \n",
      " 45  2nd Flr SF       2930 non-null   int64  \n",
      " 46  Low Qual Fin SF  2930 non-null   int64  \n",
      " 47  Gr Liv Area      2930 non-null   int64  \n",
      " 48  Bsmt Full Bath   2928 non-null   float64\n",
      " 49  Bsmt Half Bath   2928 non-null   float64\n",
      " 50  Full Bath        2930 non-null   int64  \n",
      " 51  Half Bath        2930 non-null   int64  \n",
      " 52  Bedroom AbvGr    2930 non-null   int64  \n",
      " 53  Kitchen AbvGr    2930 non-null   int64  \n",
      " 54  Kitchen Qual     2930 non-null   object \n",
      " 55  TotRms AbvGrd    2930 non-null   int64  \n",
      " 56  Functional       2930 non-null   object \n",
      " 57  Fireplaces       2930 non-null   int64  \n",
      " 58  Fireplace Qu     1508 non-null   object \n",
      " 59  Garage Type      2773 non-null   object \n",
      " 60  Garage Yr Blt    2771 non-null   float64\n",
      " 61  Garage Finish    2771 non-null   object \n",
      " 62  Garage Cars      2929 non-null   float64\n",
      " 63  Garage Area      2929 non-null   float64\n",
      " 64  Garage Qual      2771 non-null   object \n",
      " 65  Garage Cond      2771 non-null   object \n",
      " 66  Paved Drive      2930 non-null   object \n",
      " 67  Wood Deck SF     2930 non-null   int64  \n",
      " 68  Open Porch SF    2930 non-null   int64  \n",
      " 69  Enclosed Porch   2930 non-null   int64  \n",
      " 70  3Ssn Porch       2930 non-null   int64  \n",
      " 71  Screen Porch     2930 non-null   int64  \n",
      " 72  Pool Area        2930 non-null   int64  \n",
      " 73  Pool QC          13 non-null     object \n",
      " 74  Fence            572 non-null    object \n",
      " 75  Misc Feature     106 non-null    object \n",
      " 76  Misc Val         2930 non-null   int64  \n",
      " 77  Mo Sold          2930 non-null   int64  \n",
      " 78  Yr Sold          2930 non-null   int64  \n",
      " 79  Sale Type        2930 non-null   object \n",
      " 80  Sale Condition   2930 non-null   object \n",
      " 81  SalePrice        2930 non-null   int64  \n",
      "dtypes: float64(11), int64(28), object(43)\n",
      "memory usage: 1.8+ MB\n",
      "None\n"
     ]
    }
   ],
   "source": [
    "print(house.head())\n",
    "print('\\n')\n",
    "print(house.info())"
   ]
  },
  {
   "cell_type": "markdown",
   "metadata": {},
   "source": [
    "## Data Cleaning"
   ]
  },
  {
   "cell_type": "code",
   "execution_count": 4,
   "metadata": {},
   "outputs": [],
   "source": [
    "data_clean=house.copy()\n",
    "\n",
    "# Drop columns with more than 5% missing observations\n",
    "data_clean.dropna(thresh=0.95*house.shape[0],axis=1,inplace=True)\n",
    "\n",
    "# Fill missing values with the mean for numerical columns and with the most common value for categorical columns\n",
    "data_clean.fillna(data_clean.mean(),inplace=True)\n",
    "data_clean.fillna(data_clean.mode().iloc[0],inplace=True)\n",
    "\n",
    "# Create new features\n",
    "data_clean['years_sold']=data_clean['Yr Sold']-data_clean['Year Built']\n",
    "data_clean['years_since_remod']=data_clean['Yr Sold']-data_clean['Year Remod/Add']\n",
    "\n",
    "# Drop rows with negative values\n",
    "rows_drop=data_clean[(data_clean['years_since_remod']<0) |(data_clean['years_sold']<0)].index\n",
    "data_clean.drop(rows_drop,inplace=True)\n",
    "\n",
    "# Drop columns that aren't useful\n",
    "columns_drop=[\"PID\", \"Order\", \"Mo Sold\", \"Sale Condition\", \"Sale Type\", \"Year Built\", \"Year Remod/Add\"]\n",
    "data_clean.drop(columns_drop,axis=1,inplace=True)"
   ]
  },
  {
   "cell_type": "markdown",
   "metadata": {},
   "source": [
    "## Features Selection"
   ]
  },
  {
   "cell_type": "code",
   "execution_count": 5,
   "metadata": {},
   "outputs": [
    {
     "data": {
      "image/png": "[encoded data removed]",
      "text/plain": [
       "<Figure size 432x288 with 2 Axes>"
      ]
     },
     "metadata": {
      "needs_background": "light"
     },
     "output_type": "display_data"
    }
   ],
   "source": [
    "numerical_cols=data_clean.select_dtypes(include=['int64','float']).columns\n",
    "text_cols=data_clean.select_dtypes(include=['object']).columns\n",
    "\n",
    "# Calculate correlations then pick features with a strong correlation with SalePrice\n",
    "correlations=data_clean[numerical_cols].corr()['SalePrice'].abs().sort_values(ascending=False)\n",
    "strong_num_features=correlations[correlations>0.4].index\n",
    "\n",
    "# Generate a heatmap for better visual:\n",
    "sns.heatmap(data_clean[strong_num_features].corr().abs())\n",
    "# It seems that a couple of feature pairs are highly correlated, which makes sense:\n",
    "# ('Gr Liv Area' and 'TotRms AbvGrd'), ('Garage Area' and 'Garage Cars'), ('1st Flr SF' and 'Total Bsmt SF')\n",
    "\n",
    "# A solution is to only include either feature of each pair\n",
    "strong_num_features=strong_num_features.drop(['TotRms AbvGrd','Garage Cars','Total Bsmt SF'])"
   ]
  },
  {
   "cell_type": "code",
   "execution_count": 6,
   "metadata": {},
   "outputs": [],
   "source": [
    "# Check unique values for each categorical columns \n",
    "# Include only columns with less than 10 unique values\n",
    "cat_features=[]\n",
    "for col in data_clean[text_cols].columns:\n",
    "    if data_clean[col].nunique()<10:\n",
    "        cat_features.append(col)  \n",
    "\n",
    "strong_cat_features=[]\n",
    "for col in cat_features:\n",
    "    if data_clean[col].value_counts().max()<data_clean.shape[0]*0.9:\n",
    "        strong_cat_features.append(col)\n",
    "\n",
    "# Generate dummies for categorical features\n",
    "dummies_df=pd.get_dummies(data_clean[strong_cat_features])\n",
    "data_clean=pd.concat([data_clean[strong_num_features],dummies_df],axis=1)"
   ]
  },
  {
   "cell_type": "markdown",
   "metadata": {
    "collapsed": true
   },
   "source": [
    "## Simple Cross Validation"
   ]
  },
  {
   "cell_type": "code",
   "execution_count": 7,
   "metadata": {},
   "outputs": [],
   "source": [
    "def train_and_test(data,features,k=0):\n",
    "    select_features=features.drop('SalePrice')\n",
    "    lr=LinearRegression()\n",
    "    \n",
    "    # Split the data in two halfs, then fit the OLS regression with the train data\n",
    "    # Calculate RMSE using the test data\n",
    "    if k==0:\n",
    "        train=data.iloc[:1460]\n",
    "        test=data.iloc[1460:]\n",
    "        train_features=train[select_features]\n",
    "        test_features=test[select_features]\n",
    "        train_target=train['SalePrice']\n",
    "        test_target=test['SalePrice']\n",
    "        lr.fit(train_features,train_target)\n",
    "        predictions=lr.predict(test_features)\n",
    "        rmse=mean_squared_error(test_target,predictions)**(1/2)\n",
    "        return rmse\n",
    "    \n",
    "    # Split the data in two halfs, use both train and test data sets to fit and calculate RMSEs\n",
    "    # Return the average of the two RMSEs\n",
    "    if k == 1:\n",
    "        # Randomize *all* rows (frac=1) from data and return\n",
    "        shuffled_df = data.sample(frac=1, )\n",
    "        train=data.iloc[:1460]\n",
    "        test=data.iloc[1460:]\n",
    "        train_features=train[select_features]\n",
    "        test_features=test[select_features]\n",
    "        train_target=train['SalePrice']\n",
    "        test_target=test['SalePrice']\n",
    "        lr.fit(train_features,train_target)\n",
    "        predictions_1=lr.predict(test_features)\n",
    "        rmse_1=mean_squared_error(test_target,predictions_1)**(1/2)\n",
    "        lr.fit(test_features,test_target)\n",
    "        predictions_2=lr.predict(train_features)\n",
    "        rmse_2=mean_squared_error(train_target,predictions_2)**(1/2)\n",
    "        return np.mean([rmse_1,rmse_2])\n",
    "\n",
    "    # Implement k-fold cross validation\n",
    "    if k>1:\n",
    "        kf=KFold(n_splits=k,shuffle=True)\n",
    "        rmses=[]\n",
    "        for train_index,test_index in kf.split(data):\n",
    "            train_features=data[select_features].iloc[train_index]\n",
    "            train_target=data['SalePrice'].iloc[train_index]\n",
    "            test_features=data[select_features].iloc[test_index]\n",
    "            test_target=data['SalePrice'].iloc[test_index]\n",
    "            lr.fit(train_features,train_target)\n",
    "            predictions=lr.predict(test_features)\n",
    "            rmse=mean_squared_error(test_target,predictions)**(1/2)\n",
    "            rmses.append(rmse)\n",
    "        avg_rmse=np.mean(rmses)\n",
    "        return avg_rmse\n",
    "      "
   ]
  },
  {
   "cell_type": "code",
   "execution_count": 8,
   "metadata": {},
   "outputs": [
    {
     "data": {
      "text/plain": [
       "32524.464688100805"
      ]
     },
     "execution_count": 8,
     "metadata": {},
     "output_type": "execute_result"
    }
   ],
   "source": [
    "# Select only numeric columns to fit the model\n",
    "train_and_test(data_clean,strong_num_features,k=10)"
   ]
  },
  {
   "cell_type": "code",
   "execution_count": 9,
   "metadata": {},
   "outputs": [
    {
     "data": {
      "text/plain": [
       "27459.21931524574"
      ]
     },
     "execution_count": 9,
     "metadata": {},
     "output_type": "execute_result"
    }
   ],
   "source": [
    "# Select numeric and categorical features to fit the model\n",
    "# The RMSE is smaller compared to using only numeric features\n",
    "num_cat_features=data_clean.columns\n",
    "train_and_test(data_clean,num_cat_features,k=10)"
   ]
  }
 ],
 "metadata": {
  "anaconda-cloud": {},
  "kernelspec": {
   "display_name": "Python 3",
   "language": "python",
   "name": "python3"
  },
  "language_info": {
   "codemirror_mode": {
    "name": "ipython",
    "version": 3
   },
   "file_extension": ".py",
   "mimetype": "text/x-python",
   "name": "python",
   "nbconvert_exporter": "python",
   "pygments_lexer": "ipython3",
   "version": "3.7.6"
  }
 },
 "nbformat": 4,
 "nbformat_minor": 2
}
